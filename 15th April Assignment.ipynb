{
 "cells": [
  {
   "cell_type": "markdown",
   "id": "bb505663",
   "metadata": {},
   "source": [
    "__Q1. You are working on a machine learning project where you have a dataset containing numerical and\n",
    "categorical features. You have identified that some of the features are highly correlated and there are\n",
    "missing values in some of the columns. You want to build a pipeline that automates the feature\n",
    "engineering process and handles the missing values__\n",
    "1. Design a pipeline that includes the following  steps\"\n",
    "2. Use an automated feature selection method to identify the important features in the datasets\n",
    "3. Create a numerical pipeline that  includes the following steps\"\n",
    "4. Impute the missing values in the numerical columns using the mean of the column values\n",
    "5. Scale the numerical columns using standardization\n",
    "6. Create a categorical pipeline that includes the following steps\"\n",
    "7. Impute the missing values in the categorical columns using the most frequent value of the columns\n",
    "8. One-hot encodes the categorical columns\n",
    "9. Combine the numerical and categorical pipelines using a ColumnTransformers\n",
    "10. Use a Random Forest Classifier to build the final models\n",
    "11. Evaluate the accuracy of the model on the test dataset\n",
    "\n",
    "Note! Your solution should include code snippets for each step of the pipeline and a brief explanation of\n",
    "each step. You should also provide an interpretation of the results and suggest possible improvements for\n",
    "the pipeline"
   ]
  },
  {
   "cell_type": "markdown",
   "id": "21110727",
   "metadata": {},
   "source": [
    "#### Import Necessary Libraries\n"
   ]
  },
  {
   "cell_type": "code",
   "execution_count": 1,
   "id": "eb8f20a1",
   "metadata": {},
   "outputs": [],
   "source": [
    "from sklearn.datasets import load_iris\n",
    "from sklearn.model_selection import train_test_split\n",
    "from sklearn.pipeline import Pipeline\n",
    "from sklearn.compose import ColumnTransformer\n",
    "from sklearn.impute import SimpleImputer\n",
    "from sklearn.preprocessing import StandardScaler, OneHotEncoder\n",
    "from sklearn.feature_selection import SelectKBest, f_classif\n",
    "from sklearn.ensemble import RandomForestClassifier\n",
    "from sklearn.metrics import accuracy_score,recall_score,f1_score"
   ]
  },
  {
   "cell_type": "markdown",
   "id": "0fc2a8ca",
   "metadata": {},
   "source": [
    "#### Load the Iris dataset"
   ]
  },
  {
   "cell_type": "code",
   "execution_count": 2,
   "id": "1fed7e5c",
   "metadata": {},
   "outputs": [],
   "source": [
    "data = load_iris()\n",
    "X, y = data.data, data.target"
   ]
  },
  {
   "cell_type": "markdown",
   "id": "5c4becd0",
   "metadata": {},
   "source": [
    "#### Split the dataset into train and test sets\n"
   ]
  },
  {
   "cell_type": "code",
   "execution_count": 3,
   "id": "fb4ed3d2",
   "metadata": {},
   "outputs": [],
   "source": [
    "X_train,X_test,y_train,y_test=train_test_split(X,y,test_size=0.2,random_state=42)"
   ]
  },
  {
   "cell_type": "markdown",
   "id": "26600e1c",
   "metadata": {},
   "source": [
    "#### 1.  Use an automated feature selection method to identify the important features in the dataset. \n",
    "Feature selection helps identify the most relevant features for your model, improving performance and reducing overfitting. You can use methods like correlation analysis, recursive feature elimination, or feature importance from tree-based models. Here's an example using SelectKBest with f_classif scoring:"
   ]
  },
  {
   "cell_type": "code",
   "execution_count": 4,
   "id": "0ef59a64",
   "metadata": {},
   "outputs": [],
   "source": [
    "# Step 1: Use an automated feature selection method\n",
    "selector = SelectKBest(score_func=f_classif, k=3)\n",
    "X_train_selected = selector.fit_transform(X_train, y_train)"
   ]
  },
  {
   "cell_type": "code",
   "execution_count": 13,
   "id": "272a68e8",
   "metadata": {},
   "outputs": [
    {
     "data": {
      "text/plain": [
       "array([[4.6, 1. , 0.2],\n",
       "       [5.7, 1.5, 0.4],\n",
       "       [6.7, 4.4, 1.4],\n",
       "       [4.8, 1.6, 0.2],\n",
       "       [4.4, 1.3, 0.2],\n",
       "       [6.3, 5. , 1.9],\n",
       "       [6.4, 4.5, 1.5],\n",
       "       [5.2, 1.5, 0.2],\n",
       "       [5. , 1.4, 0.2],\n",
       "       [5.2, 1.5, 0.1],\n",
       "       [5.8, 5.1, 1.9],\n",
       "       [6. , 4.5, 1.6],\n",
       "       [6.7, 4.7, 1.5],\n",
       "       [5.4, 1.3, 0.4],\n",
       "       [5.4, 1.5, 0.2],\n",
       "       [5.5, 3.7, 1. ],\n",
       "       [6.3, 5.1, 1.5],\n",
       "       [6.4, 5.5, 1.8],\n",
       "       [6.6, 4.4, 1.4],\n",
       "       [7.2, 6.1, 2.5],\n",
       "       [5.7, 4.2, 1.3],\n",
       "       [7.6, 6.6, 2.1],\n",
       "       [5.6, 4.5, 1.5],\n",
       "       [5.1, 1.4, 0.2],\n",
       "       [7.7, 6.7, 2. ],\n",
       "       [5.8, 4.1, 1. ],\n",
       "       [5.2, 1.4, 0.2],\n",
       "       [5. , 1.3, 0.3],\n",
       "       [5.1, 1.9, 0.4],\n",
       "       [5. , 3.5, 1. ],\n",
       "       [6.3, 4.9, 1.8],\n",
       "       [4.8, 1.9, 0.2],\n",
       "       [5. , 1.6, 0.2],\n",
       "       [5.1, 1.7, 0.5],\n",
       "       [5.6, 4.2, 1.3],\n",
       "       [5.1, 1.5, 0.2],\n",
       "       [5.7, 4.2, 1.2],\n",
       "       [7.7, 6.7, 2.2],\n",
       "       [4.6, 1.4, 0.2],\n",
       "       [6.2, 4.3, 1.3],\n",
       "       [5.7, 5. , 2. ],\n",
       "       [5.5, 1.4, 0.2],\n",
       "       [6. , 4.8, 1.8],\n",
       "       [5.8, 5.1, 1.9],\n",
       "       [6. , 4. , 1. ],\n",
       "       [5.4, 4.5, 1.5],\n",
       "       [6.2, 5.4, 2.3],\n",
       "       [5.5, 4. , 1.3],\n",
       "       [5.4, 1.7, 0.4],\n",
       "       [5. , 3.3, 1. ],\n",
       "       [6.4, 5.3, 1.9],\n",
       "       [5. , 1.4, 0.2],\n",
       "       [5. , 1.2, 0.2],\n",
       "       [5.5, 3.8, 1.1],\n",
       "       [6.7, 5. , 1.7],\n",
       "       [4.9, 1.5, 0.2],\n",
       "       [5.8, 5.1, 2.4],\n",
       "       [5. , 1.5, 0.2],\n",
       "       [5. , 1.6, 0.6],\n",
       "       [5.9, 4.8, 1.8],\n",
       "       [5.1, 3. , 1.1],\n",
       "       [6.9, 5.7, 2.3],\n",
       "       [6. , 5.1, 1.6],\n",
       "       [6.1, 5.6, 1.4],\n",
       "       [7.7, 6.1, 2.3],\n",
       "       [5.5, 4. , 1.3],\n",
       "       [4.4, 1.4, 0.2],\n",
       "       [4.3, 1.1, 0.1],\n",
       "       [6. , 5. , 1.5],\n",
       "       [7.2, 6. , 1.8],\n",
       "       [4.6, 1.5, 0.2],\n",
       "       [5.1, 1.4, 0.3],\n",
       "       [4.4, 1.3, 0.2],\n",
       "       [6.3, 4.9, 1.5],\n",
       "       [6.3, 5.6, 2.4],\n",
       "       [4.6, 1.4, 0.3],\n",
       "       [6.8, 5.5, 2.1],\n",
       "       [6.3, 6. , 2.5],\n",
       "       [4.7, 1.3, 0.2],\n",
       "       [6.1, 4.7, 1.4],\n",
       "       [6.5, 4.6, 1.5],\n",
       "       [6.2, 4.8, 1.8],\n",
       "       [7. , 4.7, 1.4],\n",
       "       [6.4, 5.3, 2.3],\n",
       "       [5.1, 1.6, 0.2],\n",
       "       [6.9, 5.4, 2.1],\n",
       "       [5.9, 4.2, 1.5],\n",
       "       [6.5, 5.2, 2. ],\n",
       "       [5.7, 3.5, 1. ],\n",
       "       [5.2, 3.9, 1.4],\n",
       "       [6.1, 4.6, 1.4],\n",
       "       [4.5, 1.3, 0.3],\n",
       "       [6.6, 4.6, 1.3],\n",
       "       [5.5, 4.4, 1.2],\n",
       "       [5.3, 1.5, 0.2],\n",
       "       [5.6, 4.1, 1.3],\n",
       "       [7.3, 6.3, 1.8],\n",
       "       [6.7, 5.7, 2.1],\n",
       "       [5.1, 1.5, 0.4],\n",
       "       [4.9, 3.3, 1. ],\n",
       "       [6.7, 5.7, 2.5],\n",
       "       [7.2, 5.8, 1.6],\n",
       "       [4.9, 1.4, 0.1],\n",
       "       [6.7, 5.6, 2.4],\n",
       "       [4.9, 1.4, 0.2],\n",
       "       [6.9, 4.9, 1.5],\n",
       "       [7.4, 6.1, 1.9],\n",
       "       [6.3, 5.6, 1.8],\n",
       "       [5.7, 4.1, 1.3],\n",
       "       [6.5, 5.5, 1.8],\n",
       "       [6.3, 4.4, 1.3],\n",
       "       [6.4, 4.3, 1.3],\n",
       "       [5.6, 4.9, 2. ],\n",
       "       [5.9, 5.1, 1.8],\n",
       "       [5.4, 1.7, 0.2],\n",
       "       [6.1, 4. , 1.3],\n",
       "       [4.9, 4.5, 1.7],\n",
       "       [5.8, 1.2, 0.2],\n",
       "       [5.8, 4. , 1.2],\n",
       "       [7.1, 5.9, 2.1]])"
      ]
     },
     "execution_count": 13,
     "metadata": {},
     "output_type": "execute_result"
    }
   ],
   "source": [
    "X_train_selected"
   ]
  },
  {
   "cell_type": "markdown",
   "id": "b987a9ed",
   "metadata": {},
   "source": [
    "#### 2.    Create a numerical pipeline that includes the following steps:\n",
    "a. Impute the missing values in the numerical columns using the mean of the column values.<br>\n",
    "b. Scale the numerical columns using standardization.\n",
    "Imputing missing values fills gaps in the dataset, and scaling numerical features standardizes them for better model performance. Here's an example:"
   ]
  },
  {
   "cell_type": "code",
   "execution_count": 5,
   "id": "bc055163",
   "metadata": {},
   "outputs": [],
   "source": [
    "# Step 2: Create a numerical pipeline\n",
    "num_pipeline=Pipeline([\n",
    "    ('imputer',SimpleImputer(strategy='mean')),\n",
    "    ('scaler',StandardScaler())\n",
    "])"
   ]
  },
  {
   "cell_type": "markdown",
   "id": "78a6c29b",
   "metadata": {},
   "source": [
    "#### 3.  Create a categorical pipeline that includes the following steps:\n",
    "a. Impute the missing values in the categorical columns using the most frequent value of the column.<br>\n",
    "b. One-hot encode the categorical columns.\n",
    "Imputing missing values replaces them with the most frequent value, and one-hot encoding converts categorical variables into binary vectors. Here's an example:"
   ]
  },
  {
   "cell_type": "code",
   "execution_count": 6,
   "id": "f11ae58e",
   "metadata": {},
   "outputs": [],
   "source": [
    "# Step 3: Create a categorical pipeline\n",
    "cat_pipeline=Pipeline([\n",
    "    ('imputer',SimpleImputer(strategy='most_frequent')),\n",
    "    ('encode',OneHotEncoder())\n",
    "])"
   ]
  },
  {
   "cell_type": "markdown",
   "id": "92602028",
   "metadata": {},
   "source": [
    "#### 4.  Combine the numerical and categorical pipelines using a ColumnTransformer.\n",
    "The ColumnTransformer allows different transformations on different columns, combining them into a single output. Here's an example:"
   ]
  },
  {
   "cell_type": "code",
   "execution_count": 7,
   "id": "0755cf38",
   "metadata": {},
   "outputs": [],
   "source": [
    "# Step 4: Combine numerical and categorical pipelines\n",
    "preprocessor = ColumnTransformer([\n",
    "    ('num', num_pipeline, [0, 1, 2, 3]),  # Assuming all columns are numerical\n",
    "    ('cat', cat_pipeline, [])  # Assuming no categorical columns in this dataset\n",
    "])"
   ]
  },
  {
   "cell_type": "markdown",
   "id": "3034b479",
   "metadata": {},
   "source": [
    "#### 5.   Use a Random Forest Classifier to build the final model.\n",
    "Random Forest is an ensemble learning method that combines multiple decision trees for predictions. It handles both numerical and categorical features and is suitable for classification tasks. Here's an example:"
   ]
  },
  {
   "cell_type": "code",
   "execution_count": 8,
   "id": "6536b1cd",
   "metadata": {},
   "outputs": [],
   "source": [
    "# Step 5: Use a Random Forest Classifier\n",
    "rf_classifier = RandomForestClassifier()"
   ]
  },
  {
   "cell_type": "code",
   "execution_count": 9,
   "id": "ea025789",
   "metadata": {},
   "outputs": [],
   "source": [
    "# Step 6: Create the final pipeline\n",
    "pipeline = Pipeline([\n",
    "    ('preprocessor', preprocessor),\n",
    "    ('classifier', rf_classifier)\n",
    "])"
   ]
  },
  {
   "cell_type": "code",
   "execution_count": 10,
   "id": "7a26e02e",
   "metadata": {},
   "outputs": [
    {
     "data": {
      "text/html": [
       "<style>#sk-container-id-1 {color: black;background-color: white;}#sk-container-id-1 pre{padding: 0;}#sk-container-id-1 div.sk-toggleable {background-color: white;}#sk-container-id-1 label.sk-toggleable__label {cursor: pointer;display: block;width: 100%;margin-bottom: 0;padding: 0.3em;box-sizing: border-box;text-align: center;}#sk-container-id-1 label.sk-toggleable__label-arrow:before {content: \"▸\";float: left;margin-right: 0.25em;color: #696969;}#sk-container-id-1 label.sk-toggleable__label-arrow:hover:before {color: black;}#sk-container-id-1 div.sk-estimator:hover label.sk-toggleable__label-arrow:before {color: black;}#sk-container-id-1 div.sk-toggleable__content {max-height: 0;max-width: 0;overflow: hidden;text-align: left;background-color: #f0f8ff;}#sk-container-id-1 div.sk-toggleable__content pre {margin: 0.2em;color: black;border-radius: 0.25em;background-color: #f0f8ff;}#sk-container-id-1 input.sk-toggleable__control:checked~div.sk-toggleable__content {max-height: 200px;max-width: 100%;overflow: auto;}#sk-container-id-1 input.sk-toggleable__control:checked~label.sk-toggleable__label-arrow:before {content: \"▾\";}#sk-container-id-1 div.sk-estimator input.sk-toggleable__control:checked~label.sk-toggleable__label {background-color: #d4ebff;}#sk-container-id-1 div.sk-label input.sk-toggleable__control:checked~label.sk-toggleable__label {background-color: #d4ebff;}#sk-container-id-1 input.sk-hidden--visually {border: 0;clip: rect(1px 1px 1px 1px);clip: rect(1px, 1px, 1px, 1px);height: 1px;margin: -1px;overflow: hidden;padding: 0;position: absolute;width: 1px;}#sk-container-id-1 div.sk-estimator {font-family: monospace;background-color: #f0f8ff;border: 1px dotted black;border-radius: 0.25em;box-sizing: border-box;margin-bottom: 0.5em;}#sk-container-id-1 div.sk-estimator:hover {background-color: #d4ebff;}#sk-container-id-1 div.sk-parallel-item::after {content: \"\";width: 100%;border-bottom: 1px solid gray;flex-grow: 1;}#sk-container-id-1 div.sk-label:hover label.sk-toggleable__label {background-color: #d4ebff;}#sk-container-id-1 div.sk-serial::before {content: \"\";position: absolute;border-left: 1px solid gray;box-sizing: border-box;top: 0;bottom: 0;left: 50%;z-index: 0;}#sk-container-id-1 div.sk-serial {display: flex;flex-direction: column;align-items: center;background-color: white;padding-right: 0.2em;padding-left: 0.2em;position: relative;}#sk-container-id-1 div.sk-item {position: relative;z-index: 1;}#sk-container-id-1 div.sk-parallel {display: flex;align-items: stretch;justify-content: center;background-color: white;position: relative;}#sk-container-id-1 div.sk-item::before, #sk-container-id-1 div.sk-parallel-item::before {content: \"\";position: absolute;border-left: 1px solid gray;box-sizing: border-box;top: 0;bottom: 0;left: 50%;z-index: -1;}#sk-container-id-1 div.sk-parallel-item {display: flex;flex-direction: column;z-index: 1;position: relative;background-color: white;}#sk-container-id-1 div.sk-parallel-item:first-child::after {align-self: flex-end;width: 50%;}#sk-container-id-1 div.sk-parallel-item:last-child::after {align-self: flex-start;width: 50%;}#sk-container-id-1 div.sk-parallel-item:only-child::after {width: 0;}#sk-container-id-1 div.sk-dashed-wrapped {border: 1px dashed gray;margin: 0 0.4em 0.5em 0.4em;box-sizing: border-box;padding-bottom: 0.4em;background-color: white;}#sk-container-id-1 div.sk-label label {font-family: monospace;font-weight: bold;display: inline-block;line-height: 1.2em;}#sk-container-id-1 div.sk-label-container {text-align: center;}#sk-container-id-1 div.sk-container {/* jupyter's `normalize.less` sets `[hidden] { display: none; }` but bootstrap.min.css set `[hidden] { display: none !important; }` so we also need the `!important` here to be able to override the default hidden behavior on the sphinx rendered scikit-learn.org. See: https://github.com/scikit-learn/scikit-learn/issues/21755 */display: inline-block !important;position: relative;}#sk-container-id-1 div.sk-text-repr-fallback {display: none;}</style><div id=\"sk-container-id-1\" class=\"sk-top-container\"><div class=\"sk-text-repr-fallback\"><pre>Pipeline(steps=[(&#x27;preprocessor&#x27;,\n",
       "                 ColumnTransformer(transformers=[(&#x27;num&#x27;,\n",
       "                                                  Pipeline(steps=[(&#x27;imputer&#x27;,\n",
       "                                                                   SimpleImputer()),\n",
       "                                                                  (&#x27;scaler&#x27;,\n",
       "                                                                   StandardScaler())]),\n",
       "                                                  [0, 1, 2, 3]),\n",
       "                                                 (&#x27;cat&#x27;,\n",
       "                                                  Pipeline(steps=[(&#x27;imputer&#x27;,\n",
       "                                                                   SimpleImputer(strategy=&#x27;most_frequent&#x27;)),\n",
       "                                                                  (&#x27;encode&#x27;,\n",
       "                                                                   OneHotEncoder())]),\n",
       "                                                  [])])),\n",
       "                (&#x27;classifier&#x27;, RandomForestClassifier())])</pre><b>In a Jupyter environment, please rerun this cell to show the HTML representation or trust the notebook. <br />On GitHub, the HTML representation is unable to render, please try loading this page with nbviewer.org.</b></div><div class=\"sk-container\" hidden><div class=\"sk-item sk-dashed-wrapped\"><div class=\"sk-label-container\"><div class=\"sk-label sk-toggleable\"><input class=\"sk-toggleable__control sk-hidden--visually\" id=\"sk-estimator-id-1\" type=\"checkbox\" ><label for=\"sk-estimator-id-1\" class=\"sk-toggleable__label sk-toggleable__label-arrow\">Pipeline</label><div class=\"sk-toggleable__content\"><pre>Pipeline(steps=[(&#x27;preprocessor&#x27;,\n",
       "                 ColumnTransformer(transformers=[(&#x27;num&#x27;,\n",
       "                                                  Pipeline(steps=[(&#x27;imputer&#x27;,\n",
       "                                                                   SimpleImputer()),\n",
       "                                                                  (&#x27;scaler&#x27;,\n",
       "                                                                   StandardScaler())]),\n",
       "                                                  [0, 1, 2, 3]),\n",
       "                                                 (&#x27;cat&#x27;,\n",
       "                                                  Pipeline(steps=[(&#x27;imputer&#x27;,\n",
       "                                                                   SimpleImputer(strategy=&#x27;most_frequent&#x27;)),\n",
       "                                                                  (&#x27;encode&#x27;,\n",
       "                                                                   OneHotEncoder())]),\n",
       "                                                  [])])),\n",
       "                (&#x27;classifier&#x27;, RandomForestClassifier())])</pre></div></div></div><div class=\"sk-serial\"><div class=\"sk-item sk-dashed-wrapped\"><div class=\"sk-label-container\"><div class=\"sk-label sk-toggleable\"><input class=\"sk-toggleable__control sk-hidden--visually\" id=\"sk-estimator-id-2\" type=\"checkbox\" ><label for=\"sk-estimator-id-2\" class=\"sk-toggleable__label sk-toggleable__label-arrow\">preprocessor: ColumnTransformer</label><div class=\"sk-toggleable__content\"><pre>ColumnTransformer(transformers=[(&#x27;num&#x27;,\n",
       "                                 Pipeline(steps=[(&#x27;imputer&#x27;, SimpleImputer()),\n",
       "                                                 (&#x27;scaler&#x27;, StandardScaler())]),\n",
       "                                 [0, 1, 2, 3]),\n",
       "                                (&#x27;cat&#x27;,\n",
       "                                 Pipeline(steps=[(&#x27;imputer&#x27;,\n",
       "                                                  SimpleImputer(strategy=&#x27;most_frequent&#x27;)),\n",
       "                                                 (&#x27;encode&#x27;, OneHotEncoder())]),\n",
       "                                 [])])</pre></div></div></div><div class=\"sk-parallel\"><div class=\"sk-parallel-item\"><div class=\"sk-item\"><div class=\"sk-label-container\"><div class=\"sk-label sk-toggleable\"><input class=\"sk-toggleable__control sk-hidden--visually\" id=\"sk-estimator-id-3\" type=\"checkbox\" ><label for=\"sk-estimator-id-3\" class=\"sk-toggleable__label sk-toggleable__label-arrow\">num</label><div class=\"sk-toggleable__content\"><pre>[0, 1, 2, 3]</pre></div></div></div><div class=\"sk-serial\"><div class=\"sk-item\"><div class=\"sk-serial\"><div class=\"sk-item\"><div class=\"sk-estimator sk-toggleable\"><input class=\"sk-toggleable__control sk-hidden--visually\" id=\"sk-estimator-id-4\" type=\"checkbox\" ><label for=\"sk-estimator-id-4\" class=\"sk-toggleable__label sk-toggleable__label-arrow\">SimpleImputer</label><div class=\"sk-toggleable__content\"><pre>SimpleImputer()</pre></div></div></div><div class=\"sk-item\"><div class=\"sk-estimator sk-toggleable\"><input class=\"sk-toggleable__control sk-hidden--visually\" id=\"sk-estimator-id-5\" type=\"checkbox\" ><label for=\"sk-estimator-id-5\" class=\"sk-toggleable__label sk-toggleable__label-arrow\">StandardScaler</label><div class=\"sk-toggleable__content\"><pre>StandardScaler()</pre></div></div></div></div></div></div></div></div><div class=\"sk-parallel-item\"><div class=\"sk-item\"><div class=\"sk-label-container\"><div class=\"sk-label sk-toggleable\"><input class=\"sk-toggleable__control sk-hidden--visually\" id=\"sk-estimator-id-6\" type=\"checkbox\" ><label for=\"sk-estimator-id-6\" class=\"sk-toggleable__label sk-toggleable__label-arrow\">cat</label><div class=\"sk-toggleable__content\"><pre>[]</pre></div></div></div><div class=\"sk-serial\"><div class=\"sk-item\"><div class=\"sk-serial\"><div class=\"sk-item\"><div class=\"sk-estimator sk-toggleable\"><input class=\"sk-toggleable__control sk-hidden--visually\" id=\"sk-estimator-id-7\" type=\"checkbox\" ><label for=\"sk-estimator-id-7\" class=\"sk-toggleable__label sk-toggleable__label-arrow\">SimpleImputer</label><div class=\"sk-toggleable__content\"><pre>SimpleImputer(strategy=&#x27;most_frequent&#x27;)</pre></div></div></div><div class=\"sk-item\"><div class=\"sk-estimator sk-toggleable\"><input class=\"sk-toggleable__control sk-hidden--visually\" id=\"sk-estimator-id-8\" type=\"checkbox\" ><label for=\"sk-estimator-id-8\" class=\"sk-toggleable__label sk-toggleable__label-arrow\">OneHotEncoder</label><div class=\"sk-toggleable__content\"><pre>OneHotEncoder()</pre></div></div></div></div></div></div></div></div></div></div><div class=\"sk-item\"><div class=\"sk-estimator sk-toggleable\"><input class=\"sk-toggleable__control sk-hidden--visually\" id=\"sk-estimator-id-9\" type=\"checkbox\" ><label for=\"sk-estimator-id-9\" class=\"sk-toggleable__label sk-toggleable__label-arrow\">RandomForestClassifier</label><div class=\"sk-toggleable__content\"><pre>RandomForestClassifier()</pre></div></div></div></div></div></div></div>"
      ],
      "text/plain": [
       "Pipeline(steps=[('preprocessor',\n",
       "                 ColumnTransformer(transformers=[('num',\n",
       "                                                  Pipeline(steps=[('imputer',\n",
       "                                                                   SimpleImputer()),\n",
       "                                                                  ('scaler',\n",
       "                                                                   StandardScaler())]),\n",
       "                                                  [0, 1, 2, 3]),\n",
       "                                                 ('cat',\n",
       "                                                  Pipeline(steps=[('imputer',\n",
       "                                                                   SimpleImputer(strategy='most_frequent')),\n",
       "                                                                  ('encode',\n",
       "                                                                   OneHotEncoder())]),\n",
       "                                                  [])])),\n",
       "                ('classifier', RandomForestClassifier())])"
      ]
     },
     "execution_count": 10,
     "metadata": {},
     "output_type": "execute_result"
    }
   ],
   "source": [
    "# Step 7: Train the pipeline on the training data\n",
    "pipeline.fit(X_train, y_train)"
   ]
  },
  {
   "cell_type": "markdown",
   "id": "34c19e81",
   "metadata": {},
   "source": [
    "#### 8. Evaluate the accuracy of the model on the test dataset.\n",
    "Once trained, evaluate the model's performance on the test dataset using metrics like accuracy, precision, recall, or F1-score. Here's an example:n)"
   ]
  },
  {
   "cell_type": "code",
   "execution_count": 11,
   "id": "2a515c9c",
   "metadata": {},
   "outputs": [
    {
     "name": "stdout",
     "output_type": "stream",
     "text": [
      "Accuracy: 1.0\n",
      "Recall: 1.0\n",
      "F1 Score: 1.0\n"
     ]
    }
   ],
   "source": [
    "# Evaluate the accuracy on the test data\n",
    "y_pred = pipeline.predict(X_test)\n",
    "accuracy = accuracy_score(y_test, y_pred)\n",
    "recall = recall_score(y_test, y_pred, average='weighted')\n",
    "f1 = f1_score(y_test, y_pred, average='weighted')\n",
    "\n",
    "print(\"Accuracy:\", accuracy)\n",
    "print(\"Recall:\", recall)\n",
    "print(\"F1 Score:\", f1)"
   ]
  },
  {
   "cell_type": "markdown",
   "id": "e1711d5d",
   "metadata": {},
   "source": [
    "__Interpretation of Results and Possible Improvements:__\n",
    "\n",
    "- The pipeline automates feature engineering and missing value handling for numerical and categorical features, leading to a Random Forest model.\n",
    "- Evaluate the model's accuracy on the test dataset to assess its performance.\n",
    "- If the accuracy is unsatisfactory, consider the following:"
   ]
  },
  {
   "cell_type": "markdown",
   "id": "3357f686",
   "metadata": {},
   "source": [
    "Hyperparameter Tuning: Experiment with different hyperparameter values for the Random Forest Classifier. Adjusting parameters such as the number of estimators, maximum depth, and minimum samples per leaf can significantly impact the model's performance.\n",
    "\n",
    "Feature Engineering: Explore different feature engineering techniques to enhance the model's performance. For example, you can try creating new features based on domain knowledge, applying different transformations to the existing features, or incorporating interaction terms.\n",
    "\n",
    "Alternative Models: Consider trying alternative models or ensemble methods besides Random Forest. Different algorithms might have different strengths and weaknesses, so exploring models like Gradient Boosting, Support Vector Machines, or Neural Networks could potentially yield better results.\n",
    "\n",
    "Data Augmentation: If the dataset is small, you can explore techniques like data augmentation to generate additional synthetic samples. This can help improve the model's generalization and performance.\n",
    "\n",
    "Cross-Validation: Evaluate the model's performance using cross-validation techniques to obtain more reliable estimates of its accuracy. This can help assess whether the initial accuracy score is consistent across different folds of the data.\n",
    "\n",
    "Handling Class Imbalance: If the dataset has class imbalance, consider addressing it by using techniques such as oversampling, undersampling, or using class weights during model training. This can prevent the model from being biased towards the majority class."
   ]
  },
  {
   "cell_type": "markdown",
   "id": "af7a3522",
   "metadata": {},
   "source": [
    "### Q2. Build a pipeline that includes a random forest classifier and a logistic regression classifier, and then use a voting classifier to combine their predictions. Train the pipeline on the Iris dataset and evaluate its accuracy."
   ]
  },
  {
   "cell_type": "code",
   "execution_count": 14,
   "id": "5f29be7a",
   "metadata": {},
   "outputs": [
    {
     "name": "stdout",
     "output_type": "stream",
     "text": [
      "Accuracy: 1.0\n",
      "Recall: 1.0\n",
      "F1 Score: 1.0\n"
     ]
    }
   ],
   "source": [
    "from sklearn.ensemble import VotingClassifier\n",
    "from sklearn.linear_model import LogisticRegression\n",
    "\n",
    "# Create individual classifiers\n",
    "rf_classifier = RandomForestClassifier(random_state=42)\n",
    "lr_classifier = LogisticRegression(random_state=42)\n",
    "\n",
    "# Create a voting classifier\n",
    "voting_classifier = VotingClassifier(\n",
    "    estimators=[('rf', rf_classifier), ('lr', lr_classifier)],\n",
    "    voting='hard'  # Use majority voting\n",
    ")\n",
    "\n",
    "# Create the final pipeline\n",
    "pipeline = Pipeline([\n",
    "    ('preprocessor', preprocessor),\n",
    "    ('classifier', voting_classifier)\n",
    "])\n",
    "\n",
    "# Train the pipeline on the training data\n",
    "pipeline.fit(X_train, y_train)\n",
    "\n",
    "# Evaluate the accuracy on the test data\n",
    "y_pred = pipeline.predict(X_test)\n",
    "accuracy = accuracy_score(y_test, y_pred)\n",
    "recall = recall_score(y_test, y_pred, average='weighted')\n",
    "f1 = f1_score(y_test, y_pred, average='weighted')\n",
    "\n",
    "print(\"Accuracy:\", accuracy)\n",
    "print(\"Recall:\", recall)\n",
    "print(\"F1 Score:\", f1)\n"
   ]
  },
  {
   "cell_type": "code",
   "execution_count": null,
   "id": "aab9c39c",
   "metadata": {},
   "outputs": [],
   "source": []
  }
 ],
 "metadata": {
  "kernelspec": {
   "display_name": "Python 3 (ipykernel)",
   "language": "python",
   "name": "python3"
  },
  "language_info": {
   "codemirror_mode": {
    "name": "ipython",
    "version": 3
   },
   "file_extension": ".py",
   "mimetype": "text/x-python",
   "name": "python",
   "nbconvert_exporter": "python",
   "pygments_lexer": "ipython3",
   "version": "3.9.13"
  }
 },
 "nbformat": 4,
 "nbformat_minor": 5
}
